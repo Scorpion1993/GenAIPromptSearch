{
  "nbformat": 4,
  "nbformat_minor": 0,
  "metadata": {
    "colab": {
      "provenance": [],
      "toc_visible": true
    },
    "kernelspec": {
      "name": "python3",
      "display_name": "Python 3"
    },
    "language_info": {
      "name": "python"
    },
    "widgets": {
      "application/vnd.jupyter.widget-state+json": {
        "30c25883ffc64a2a9623c98d39fa2273": {
          "model_module": "@jupyter-widgets/controls",
          "model_name": "HTMLModel",
          "model_module_version": "1.5.0",
          "state": {
            "_dom_classes": [],
            "_model_module": "@jupyter-widgets/controls",
            "_model_module_version": "1.5.0",
            "_model_name": "HTMLModel",
            "_view_count": null,
            "_view_module": "@jupyter-widgets/controls",
            "_view_module_version": "1.5.0",
            "_view_name": "HTMLView",
            "description": "",
            "description_tooltip": null,
            "layout": "IPY_MODEL_9b9d6166bbff4210b4cee1f27715aa2d",
            "placeholder": "​",
            "style": "IPY_MODEL_f0d0e2ed0efc4499a083cd555b14f634",
            "value": "\n    <h1 style=\"\n        color: white;\n        background-color: #4CAF50;\n        padding: 20px;\n        text-align: center;\n        border-radius: 10px;\n        font-family: Arial, sans-serif;\n    \">\n        🚀 Hey Jitendra!Welcome to the world of GenAI..\n    </h1>\n    "
          }
        },
        "9b9d6166bbff4210b4cee1f27715aa2d": {
          "model_module": "@jupyter-widgets/base",
          "model_name": "LayoutModel",
          "model_module_version": "1.2.0",
          "state": {
            "_model_module": "@jupyter-widgets/base",
            "_model_module_version": "1.2.0",
            "_model_name": "LayoutModel",
            "_view_count": null,
            "_view_module": "@jupyter-widgets/base",
            "_view_module_version": "1.2.0",
            "_view_name": "LayoutView",
            "align_content": null,
            "align_items": null,
            "align_self": null,
            "border": null,
            "bottom": null,
            "display": null,
            "flex": null,
            "flex_flow": null,
            "grid_area": null,
            "grid_auto_columns": null,
            "grid_auto_flow": null,
            "grid_auto_rows": null,
            "grid_column": null,
            "grid_gap": null,
            "grid_row": null,
            "grid_template_areas": null,
            "grid_template_columns": null,
            "grid_template_rows": null,
            "height": null,
            "justify_content": null,
            "justify_items": null,
            "left": null,
            "margin": null,
            "max_height": null,
            "max_width": null,
            "min_height": null,
            "min_width": null,
            "object_fit": null,
            "object_position": null,
            "order": null,
            "overflow": null,
            "overflow_x": null,
            "overflow_y": null,
            "padding": null,
            "right": null,
            "top": null,
            "visibility": null,
            "width": null
          }
        },
        "f0d0e2ed0efc4499a083cd555b14f634": {
          "model_module": "@jupyter-widgets/controls",
          "model_name": "DescriptionStyleModel",
          "model_module_version": "1.5.0",
          "state": {
            "_model_module": "@jupyter-widgets/controls",
            "_model_module_version": "1.5.0",
            "_model_name": "DescriptionStyleModel",
            "_view_count": null,
            "_view_module": "@jupyter-widgets/base",
            "_view_module_version": "1.2.0",
            "_view_name": "StyleView",
            "description_width": ""
          }
        },
        "afb6c771fe89453dbfd133e44e08abd4": {
          "model_module": "@jupyter-widgets/controls",
          "model_name": "TextareaModel",
          "model_module_version": "1.5.0",
          "state": {
            "_dom_classes": [],
            "_model_module": "@jupyter-widgets/controls",
            "_model_module_version": "1.5.0",
            "_model_name": "TextareaModel",
            "_view_count": null,
            "_view_module": "@jupyter-widgets/controls",
            "_view_module_version": "1.5.0",
            "_view_name": "TextareaView",
            "continuous_update": true,
            "description": "Ask Anything",
            "description_tooltip": null,
            "disabled": false,
            "layout": "IPY_MODEL_774a553716e4464aacb78ba9754cbccc",
            "placeholder": "Enter your prompt here...",
            "rows": null,
            "style": "IPY_MODEL_f50551ece2d3443589a56b6351690b13",
            "value": ""
          }
        },
        "774a553716e4464aacb78ba9754cbccc": {
          "model_module": "@jupyter-widgets/base",
          "model_name": "LayoutModel",
          "model_module_version": "1.2.0",
          "state": {
            "_model_module": "@jupyter-widgets/base",
            "_model_module_version": "1.2.0",
            "_model_name": "LayoutModel",
            "_view_count": null,
            "_view_module": "@jupyter-widgets/base",
            "_view_module_version": "1.2.0",
            "_view_name": "LayoutView",
            "align_content": null,
            "align_items": null,
            "align_self": null,
            "border": null,
            "bottom": null,
            "display": null,
            "flex": null,
            "flex_flow": null,
            "grid_area": null,
            "grid_auto_columns": null,
            "grid_auto_flow": null,
            "grid_auto_rows": null,
            "grid_column": null,
            "grid_gap": null,
            "grid_row": null,
            "grid_template_areas": null,
            "grid_template_columns": null,
            "grid_template_rows": null,
            "height": "100px",
            "justify_content": null,
            "justify_items": null,
            "left": null,
            "margin": null,
            "max_height": null,
            "max_width": null,
            "min_height": null,
            "min_width": null,
            "object_fit": null,
            "object_position": null,
            "order": null,
            "overflow": null,
            "overflow_x": null,
            "overflow_y": null,
            "padding": null,
            "right": null,
            "top": null,
            "visibility": null,
            "width": "auto"
          }
        },
        "f50551ece2d3443589a56b6351690b13": {
          "model_module": "@jupyter-widgets/controls",
          "model_name": "DescriptionStyleModel",
          "model_module_version": "1.5.0",
          "state": {
            "_model_module": "@jupyter-widgets/controls",
            "_model_module_version": "1.5.0",
            "_model_name": "DescriptionStyleModel",
            "_view_count": null,
            "_view_module": "@jupyter-widgets/base",
            "_view_module_version": "1.2.0",
            "_view_name": "StyleView",
            "description_width": ""
          }
        },
        "fcee7a35ac894aeda353015696ccfeaa": {
          "model_module": "@jupyter-widgets/controls",
          "model_name": "ButtonModel",
          "model_module_version": "1.5.0",
          "state": {
            "_dom_classes": [],
            "_model_module": "@jupyter-widgets/controls",
            "_model_module_version": "1.5.0",
            "_model_name": "ButtonModel",
            "_view_count": null,
            "_view_module": "@jupyter-widgets/controls",
            "_view_module_version": "1.5.0",
            "_view_name": "ButtonView",
            "button_style": "primary",
            "description": "Submit",
            "disabled": false,
            "icon": "magic",
            "layout": "IPY_MODEL_e3c06b8909e743529e3999fdb1bd60d6",
            "style": "IPY_MODEL_2ec40df0d6824f1ab31c48e59e616f1b",
            "tooltip": "Click to generate content"
          }
        },
        "e3c06b8909e743529e3999fdb1bd60d6": {
          "model_module": "@jupyter-widgets/base",
          "model_name": "LayoutModel",
          "model_module_version": "1.2.0",
          "state": {
            "_model_module": "@jupyter-widgets/base",
            "_model_module_version": "1.2.0",
            "_model_name": "LayoutModel",
            "_view_count": null,
            "_view_module": "@jupyter-widgets/base",
            "_view_module_version": "1.2.0",
            "_view_name": "LayoutView",
            "align_content": null,
            "align_items": null,
            "align_self": null,
            "border": null,
            "bottom": null,
            "display": null,
            "flex": null,
            "flex_flow": null,
            "grid_area": null,
            "grid_auto_columns": null,
            "grid_auto_flow": null,
            "grid_auto_rows": null,
            "grid_column": null,
            "grid_gap": null,
            "grid_row": null,
            "grid_template_areas": null,
            "grid_template_columns": null,
            "grid_template_rows": null,
            "height": null,
            "justify_content": null,
            "justify_items": null,
            "left": null,
            "margin": null,
            "max_height": null,
            "max_width": null,
            "min_height": null,
            "min_width": null,
            "object_fit": null,
            "object_position": null,
            "order": null,
            "overflow": null,
            "overflow_x": null,
            "overflow_y": null,
            "padding": null,
            "right": null,
            "top": null,
            "visibility": null,
            "width": "auto"
          }
        },
        "2ec40df0d6824f1ab31c48e59e616f1b": {
          "model_module": "@jupyter-widgets/controls",
          "model_name": "ButtonStyleModel",
          "model_module_version": "1.5.0",
          "state": {
            "_model_module": "@jupyter-widgets/controls",
            "_model_module_version": "1.5.0",
            "_model_name": "ButtonStyleModel",
            "_view_count": null,
            "_view_module": "@jupyter-widgets/base",
            "_view_module_version": "1.2.0",
            "_view_name": "StyleView",
            "button_color": null,
            "font_weight": ""
          }
        },
        "d5544fe3549f4d52be69c29969ac9411": {
          "model_module": "@jupyter-widgets/output",
          "model_name": "OutputModel",
          "model_module_version": "1.0.0",
          "state": {
            "_dom_classes": [],
            "_model_module": "@jupyter-widgets/output",
            "_model_module_version": "1.0.0",
            "_model_name": "OutputModel",
            "_view_count": null,
            "_view_module": "@jupyter-widgets/output",
            "_view_module_version": "1.0.0",
            "_view_name": "OutputView",
            "layout": "IPY_MODEL_be4040bb9b544e29978d3f75519e1d2e",
            "msg_id": "",
            "outputs": []
          }
        },
        "be4040bb9b544e29978d3f75519e1d2e": {
          "model_module": "@jupyter-widgets/base",
          "model_name": "LayoutModel",
          "model_module_version": "1.2.0",
          "state": {
            "_model_module": "@jupyter-widgets/base",
            "_model_module_version": "1.2.0",
            "_model_name": "LayoutModel",
            "_view_count": null,
            "_view_module": "@jupyter-widgets/base",
            "_view_module_version": "1.2.0",
            "_view_name": "LayoutView",
            "align_content": null,
            "align_items": null,
            "align_self": null,
            "border": "1px solid black",
            "bottom": null,
            "display": null,
            "flex": null,
            "flex_flow": null,
            "grid_area": null,
            "grid_auto_columns": null,
            "grid_auto_flow": null,
            "grid_auto_rows": null,
            "grid_column": null,
            "grid_gap": null,
            "grid_row": null,
            "grid_template_areas": null,
            "grid_template_columns": null,
            "grid_template_rows": null,
            "height": null,
            "justify_content": null,
            "justify_items": null,
            "left": null,
            "margin": null,
            "max_height": null,
            "max_width": null,
            "min_height": null,
            "min_width": null,
            "object_fit": null,
            "object_position": null,
            "order": null,
            "overflow": null,
            "overflow_x": null,
            "overflow_y": null,
            "padding": "10px",
            "right": null,
            "top": null,
            "visibility": null,
            "width": null
          }
        }
      }
    }
  },
  "cells": [
    {
      "cell_type": "code",
      "source": [],
      "metadata": {
        "id": "rH-enjok4Ghs"
      },
      "execution_count": null,
      "outputs": []
    },
    {
      "cell_type": "code",
      "execution_count": null,
      "metadata": {
        "colab": {
          "base_uri": "https://localhost:8080/",
          "height": 294,
          "referenced_widgets": [
            "30c25883ffc64a2a9623c98d39fa2273",
            "9b9d6166bbff4210b4cee1f27715aa2d",
            "f0d0e2ed0efc4499a083cd555b14f634",
            "afb6c771fe89453dbfd133e44e08abd4",
            "774a553716e4464aacb78ba9754cbccc",
            "f50551ece2d3443589a56b6351690b13",
            "fcee7a35ac894aeda353015696ccfeaa",
            "e3c06b8909e743529e3999fdb1bd60d6",
            "2ec40df0d6824f1ab31c48e59e616f1b",
            "d5544fe3549f4d52be69c29969ac9411",
            "be4040bb9b544e29978d3f75519e1d2e"
          ]
        },
        "id": "BFixGjjhpMlc",
        "outputId": "d8ceefb0-615a-427a-b321-7b3b01bf133a"
      },
      "outputs": [
        {
          "output_type": "display_data",
          "data": {
            "text/plain": [
              "HTML(value='\\n    <h1 style=\"\\n        color: white;\\n        background-color: #4CAF50;\\n        padding: 20p…"
            ],
            "application/vnd.jupyter.widget-view+json": {
              "version_major": 2,
              "version_minor": 0,
              "model_id": "30c25883ffc64a2a9623c98d39fa2273"
            }
          },
          "metadata": {}
        },
        {
          "output_type": "display_data",
          "data": {
            "text/plain": [
              "Textarea(value='', description='Ask Anything', layout=Layout(height='100px', width='auto'), placeholder='Enter…"
            ],
            "application/vnd.jupyter.widget-view+json": {
              "version_major": 2,
              "version_minor": 0,
              "model_id": "afb6c771fe89453dbfd133e44e08abd4"
            }
          },
          "metadata": {}
        },
        {
          "output_type": "display_data",
          "data": {
            "text/plain": [
              "Button(button_style='primary', description='Submit', icon='magic', layout=Layout(width='auto'), style=ButtonSt…"
            ],
            "application/vnd.jupyter.widget-view+json": {
              "version_major": 2,
              "version_minor": 0,
              "model_id": "fcee7a35ac894aeda353015696ccfeaa"
            }
          },
          "metadata": {}
        },
        {
          "output_type": "display_data",
          "data": {
            "text/plain": [
              "Output(layout=Layout(border='1px solid black', padding='10px'))"
            ],
            "application/vnd.jupyter.widget-view+json": {
              "version_major": 2,
              "version_minor": 0,
              "model_id": "d5544fe3549f4d52be69c29969ac9411"
            }
          },
          "metadata": {}
        }
      ],
      "source": [
        "from IPython.display import display,HTML\n",
        "import ipywidgets as widgets\n",
        "\n",
        "import google.generativeai as genai\n",
        "from google.colab import userdata\n",
        "\n",
        "# Assume genai is already configured with your API key and model is loaded\n",
        "# For demonstration purposes, let's re-configure and load a model\n",
        "try:\n",
        "    GOOGLE_API_KEY = userdata.get('GOOGLE_API_KEY')\n",
        "    genai.configure(api_key=GOOGLE_API_KEY)\n",
        "    model = genai.GenerativeModel('gemini-1.5-flash-latest')\n",
        "except Exception as e:\n",
        "    print(f\"Error configuring API or loading model: {e}\")\n",
        "    print(\"Please ensure your GOOGLE_API_KEY secret is set in Google Colab.\")\n",
        "\n",
        "\n",
        "# Create an HTML widget styled as a header\n",
        "header = widgets.HTML(\n",
        "    value=\"\"\"\n",
        "    <h1 style=\"\n",
        "        color: white;\n",
        "        background-color: #4CAF50;\n",
        "        padding: 20px;\n",
        "        text-align: center;\n",
        "        border-radius: 10px;\n",
        "        font-family: Arial, sans-serif;\n",
        "    \">\n",
        "        🚀 Hey Jitendra!Welcome to the world of GenAI..\n",
        "    </h1>\n",
        "    \"\"\"\n",
        ")\n",
        "\n",
        "display(header)\n",
        "\n",
        "# Create a text area for the prompt\n",
        "prompt_textbox = widgets.Textarea(\n",
        "    value='',\n",
        "    placeholder='Enter your prompt here...',\n",
        "    description='Ask Anything',\n",
        "    disabled=False,\n",
        "    layout=widgets.Layout(width='auto', height='100px')\n",
        ")\n",
        "\n",
        "# Create a button to generate content\n",
        "generate_button = widgets.Button(\n",
        "    description='Submit',\n",
        "    disabled=False,\n",
        "    button_style='primary',\n",
        "    tooltip='Click to generate content',\n",
        "    icon='magic',\n",
        "    layout=widgets.Layout(width='auto')\n",
        ")\n",
        "\n",
        "# Create an output widget to display the response\n",
        "output_area = widgets.Output(layout=widgets.Layout(border='1px solid black', padding='10px'))\n",
        "\n",
        "# Define the function to call when the button is clicked\n",
        "def on_generate_button_clicked(b):\n",
        "    with output_area:\n",
        "        output_area.clear_output()\n",
        "        prompt = prompt_textbox.value\n",
        "        if prompt:\n",
        "            try:\n",
        "                print(\"Generating...\")\n",
        "                response = model.generate_content(prompt)\n",
        "                print(response.text)\n",
        "            except Exception as e:\n",
        "                print(f\"An error occurred: {e}\")\n",
        "        else:\n",
        "            print(\"Please enter a prompt.\")\n",
        "\n",
        "# Link the button to the function\n",
        "generate_button.on_click(on_generate_button_clicked)\n",
        "\n",
        "# Display the widgets\n",
        "display(prompt_textbox, generate_button, output_area)"
      ]
    }
  ]
}